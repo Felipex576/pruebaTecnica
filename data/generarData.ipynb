{
 "cells": [
  {
   "cell_type": "markdown",
   "id": "afb86647",
   "metadata": {},
   "source": [
    "#### Generar Datos en .CSV"
   ]
  },
  {
   "cell_type": "code",
   "execution_count": 24,
   "id": "f8395ea3",
   "metadata": {},
   "outputs": [],
   "source": [
    "import random\n",
    "import pandas as pd\n",
    "from faker import Faker\n",
    "\n",
    "fake = Faker()"
   ]
  },
  {
   "cell_type": "markdown",
   "id": "d703ff53",
   "metadata": {},
   "source": [
    "##### Proveedores"
   ]
  },
  {
   "cell_type": "code",
   "execution_count": null,
   "id": "5886e8e7",
   "metadata": {},
   "outputs": [
    {
     "data": {
      "text/plain": [
       "\"\\nproveedor = {\\n        'id_proveedor': [range(10000000, 99999999) for _ in range(10) ],\\n        'nombre_proveedor': [fake.company() for _ in range(10)], \\n        'tipo_energia': [random.choice(tipo_energia) for _ in range(10)]\\n    }\\n\""
      ]
     },
     "execution_count": 26,
     "metadata": {},
     "output_type": "execute_result"
    }
   ],
   "source": [
    "tipo_energia = ['eolica', 'hidroelectrica', 'nuclear']\n",
    "\n",
    "proveedores = []\n",
    "for p in range(1, 11):\n",
    "    proveedor = {\n",
    "        'id_proveedor': random.randint(10000000, 99999999),\n",
    "        'nombre_proveedor': fake.company(), \n",
    "        'tipo_energia': random.choice(tipo_energia)\n",
    "    }\n",
    "    proveedores.append(proveedor)\n",
    "    \n",
    "df_proveedor = pd.DataFrame(proveedores)\n",
    "\n",
    "df_proveedor.to_csv('proveedores.csv', index=False)"
   ]
  },
  {
   "cell_type": "markdown",
   "id": "3aea40e1",
   "metadata": {},
   "source": [
    "##### Clientes"
   ]
  },
  {
   "cell_type": "code",
   "execution_count": null,
   "id": "060f9732",
   "metadata": {},
   "outputs": [],
   "source": [
    "tipo_identificacion = ['dni', 'cc', 'ce']\n",
    "clientes = []\n",
    "\n",
    "for c in range(1, 11):\n",
    "    cliente = {\n",
    "        'identificacion_cliente': fake.ssn(),\n",
    "        'tipo_identificacion_cliente':  random.choice(tipo_identificacion),\n",
    "        'nombre_cliente': fake.name(), \n",
    "        'ciudad_cliente': fake.city()\n",
    "    }\n",
    "    clientes.append(cliente)\n",
    "\n",
    "df_cliente = pd.DataFrame(clientes)\n",
    "df_cliente.to_csv('clientes.csv', index=False)"
   ]
  },
  {
   "cell_type": "markdown",
   "id": "c7ff3565",
   "metadata": {},
   "source": [
    "##### Unificar todos los IDs"
   ]
  },
  {
   "cell_type": "code",
   "execution_count": 36,
   "id": "2dcaec21",
   "metadata": {},
   "outputs": [],
   "source": [
    "ids = []\n",
    "id_proveedor = df_proveedor['id_proveedor'].to_list()\n",
    "id_cliente = df_cliente['identificacion_cliente'].to_list()\n",
    "ids.extend(id_cliente)\n",
    "ids.extend(id_proveedor)"
   ]
  },
  {
   "cell_type": "markdown",
   "id": "d576eeb4",
   "metadata": {},
   "source": [
    "##### Transacciones"
   ]
  },
  {
   "cell_type": "code",
   "execution_count": 37,
   "id": "05e7d692",
   "metadata": {},
   "outputs": [],
   "source": [
    "tipo_transaccion = ['venta', 'compra']\n",
    "transacciones = []\n",
    "\n",
    "for t in range (1, 11):    \n",
    "    transaccion = {\n",
    "        'id_transaccion': random.randint(10000, 99999),\n",
    "        'tipo_transaccion': random.choice(tipo_transaccion),\n",
    "        'cantidad_transaccion': round(fake.random_number(digits=4), 0),\n",
    "        'precio': round(fake.random_number(digits=6), 2),\n",
    "        'id_persona': random.choice(ids)\n",
    "    }\n",
    "    transacciones.append(transaccion)\n",
    "\n",
    "df_transaccion = pd.DataFrame(transacciones)\n",
    "df_transaccion.to_csv('transacciones.csv', index=False)\n",
    "    "
   ]
  },
  {
   "cell_type": "markdown",
   "id": "5182765b",
   "metadata": {},
   "source": [
    "##### Subir archivos a S3"
   ]
  },
  {
   "cell_type": "code",
   "execution_count": 2,
   "id": "60068900",
   "metadata": {},
   "outputs": [],
   "source": [
    "import boto3\n",
    "from datetime import datetime"
   ]
  },
  {
   "cell_type": "code",
   "execution_count": null,
   "id": "60560c63",
   "metadata": {},
   "outputs": [
    {
     "name": "stdout",
     "output_type": "stream",
     "text": [
      "Archivo transacciones.csv subido exitosamente a poc-dev-us-east-1-863518421644-raw/transacciones/2025/06/16/transacciones.csv\n",
      "Archivo clientes.csv subido exitosamente a poc-dev-us-east-1-863518421644-raw/clientes/2025/06/16/clientes.csv\n",
      "Archivo proveedores.csv subido exitosamente a poc-dev-us-east-1-863518421644-raw/proveedores/2025/06/16/proveedores.csv\n"
     ]
    }
   ],
   "source": [
    "year = f\"{datetime.now().year}\"\n",
    "month = f\"{datetime.now().month:02}\"\n",
    "day = f\"{datetime.now().day:02}\"\n",
    "\n",
    "s3_client = boto3.client('s3', region_name='us-east-1')\n",
    "\n",
    "nombre_bucket = 'datalake-energia-raw'\n",
    "archivos = ['transacciones.csv','clientes.csv', 'proveedores.csv']\n",
    "rutas = ['transacciones', 'clientes', 'proveedores']\n",
    "# Subir el archivo\n",
    "try:\n",
    "    for archivo, ruta in zip(archivos, rutas):\n",
    "        ruta_salida =  f\"{ruta}/{year}/{month}/{day}/{archivo}\"\n",
    "        s3_client.upload_file(archivo, nombre_bucket, ruta_salida)\n",
    "        print(f'Archivo {archivo} subido exitosamente a {nombre_bucket}/{ruta_salida}')\n",
    "except Exception as e:\n",
    "    print(f'Error al subir el archivo: {e}')"
   ]
  },
  {
   "cell_type": "code",
   "execution_count": 6,
   "id": "a6f30e8c",
   "metadata": {},
   "outputs": [
    {
     "name": "stdout",
     "output_type": "stream",
     "text": [
      "2025-06-16 20:12:33.230445\n"
     ]
    }
   ],
   "source": [
    "now = datetime.now()\n",
    "year = f\"{now.year}\"\n",
    "month = f\"{now.month:02}\"\n",
    "day = f\"{now.day:02}\"\n",
    "print(now)\n"
   ]
  }
 ],
 "metadata": {
  "kernelspec": {
   "display_name": "pyenv",
   "language": "python",
   "name": "python3"
  },
  "language_info": {
   "codemirror_mode": {
    "name": "ipython",
    "version": 3
   },
   "file_extension": ".py",
   "mimetype": "text/x-python",
   "name": "python",
   "nbconvert_exporter": "python",
   "pygments_lexer": "ipython3",
   "version": "3.12.9"
  }
 },
 "nbformat": 4,
 "nbformat_minor": 5
}
